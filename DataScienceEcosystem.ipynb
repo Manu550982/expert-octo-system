{
 "cells": [
  {
   "cell_type": "markdown",
   "id": "4592aca7-68e5-481a-ac95-3c1b99b75ab3",
   "metadata": {},
   "source": [
    "# Data Science Tools and Ecosystem"
   ]
  },
  {
   "cell_type": "markdown",
   "id": "7a510cca-0e66-4116-8af8-68af903ab0f4",
   "metadata": {},
   "source": [
    "## In this notebook, Data Science Tools and Econsystem are summarized."
   ]
  },
  {
   "cell_type": "markdown",
   "id": "1f5f0b4d-dbda-4c51-b558-01440e283c30",
   "metadata": {},
   "source": [
    "### Some of the popular languages that Data Scientists use are:"
   ]
  },
  {
   "cell_type": "markdown",
   "id": "a466ede1-14be-4f3e-857c-dae4bdc558b4",
   "metadata": {},
   "source": [
    "1. python\n",
    "2. Julia\n",
    "3. R\n",
    "4. SQL"
   ]
  },
  {
   "cell_type": "markdown",
   "id": "d23136ef-8256-4f27-bf68-eeeb4e6aa039",
   "metadata": {},
   "source": [
    "### Some of the commonly used libraries used by Data Scientists include:"
   ]
  },
  {
   "cell_type": "markdown",
   "id": "910beaa8-b089-49a4-a5f3-4dff51b7da9c",
   "metadata": {},
   "source": [
    "1. pandas\n",
    "2. Numpy\n",
    "3. ggplot\n",
    "4. Dplyr"
   ]
  },
  {
   "cell_type": "markdown",
   "id": "ca5666b8-6412-4a42-93aa-c5aa7a777d62",
   "metadata": {},
   "source": [
    "| Data Scirnce Tools | Python | R | Jupyter Notebooks |\n",
    "|:------------------:|:------:|:-:|:-----------------:|\n",
    "\n"
   ]
  },
  {
   "cell_type": "markdown",
   "id": "ec1f1a1a-a062-4380-8611-1ef8588b5356",
   "metadata": {},
   "source": [
    "### Bellow are a few examples of evaluating arithmetic expressions in Python"
   ]
  },
  {
   "cell_type": "markdown",
   "id": "13ed5944-1489-4b72-84e8-df12b214a7db",
   "metadata": {},
   "source": [
    "(3*4)+5"
   ]
  },
  {
   "cell_type": "markdown",
   "id": "8a65f425-7f96-42e0-942b-8c43e2b3eadf",
   "metadata": {},
   "source": [
    "This a simple arithmetic expression to multiply then add integers"
   ]
  },
  {
   "cell_type": "code",
   "execution_count": 29,
   "id": "313a2979-68bc-40ce-9f52-e980b544acae",
   "metadata": {},
   "outputs": [
    {
     "data": {
      "text/plain": [
       "17"
      ]
     },
     "execution_count": 29,
     "metadata": {},
     "output_type": "execute_result"
    }
   ],
   "source": [
    "(3*4)+5"
   ]
  },
  {
   "cell_type": "markdown",
   "id": "5f93394d-bb16-43ac-a17f-10cff4343ee8",
   "metadata": {},
   "source": [
    "200/60"
   ]
  },
  {
   "cell_type": "markdown",
   "id": "beaee66b-98f5-4789-8681-1d7ef338225f",
   "metadata": {},
   "source": [
    "This will convert 200 minutes to hours by diving by 60"
   ]
  },
  {
   "cell_type": "code",
   "execution_count": 32,
   "id": "08d534c4-1690-4304-9e3b-e30728b554a9",
   "metadata": {},
   "outputs": [
    {
     "data": {
      "text/plain": [
       "3.3333333333333335"
      ]
     },
     "execution_count": 32,
     "metadata": {},
     "output_type": "execute_result"
    }
   ],
   "source": [
    "200/60"
   ]
  },
  {
   "cell_type": "markdown",
   "id": "3f98e685-2462-4423-810b-af61ac45f2b6",
   "metadata": {},
   "source": [
    "### Some of the key takeaways from the cours are:"
   ]
  },
  {
   "cell_type": "markdown",
   "id": "b12be1c1-f5a1-4253-8151-faee84a04920",
   "metadata": {},
   "source": [
    "**Objetives:**"
   ]
  },
  {
   "cell_type": "markdown",
   "id": "2c70638c-a48c-4cb7-8482-5d0e9cd25df1",
   "metadata": {},
   "source": [
    "popular langueges for Data Science\n",
    "\n",
    "* Python\n",
    "* R\n",
    "* SQL"
   ]
  },
  {
   "cell_type": "markdown",
   "id": "bbc7ec42-5218-4b81-ba8f-e6dee4207f44",
   "metadata": {},
   "source": [
    "Popular libray used in data sience:\n",
    "\n",
    "- ggplo\n",
    "- Dplr\n",
    "- Numpy"
   ]
  },
  {
   "cell_type": "markdown",
   "id": "1493d6c9-9e79-444e-bb9e-061d5daf4bbd",
   "metadata": {},
   "source": [
    "## Author"
   ]
  },
  {
   "cell_type": "markdown",
   "id": "aa5d97c6-464f-49e1-af3c-9f9c47135cd2",
   "metadata": {},
   "source": [
    "Emmanuel Musumba Ambetsa"
   ]
  },
  {
   "cell_type": "code",
   "execution_count": null,
   "id": "e40729dd-4a9b-4b5a-bf92-5f143890887f",
   "metadata": {},
   "outputs": [],
   "source": []
  }
 ],
 "metadata": {
  "kernelspec": {
   "display_name": "Python [conda env:base] *",
   "language": "python",
   "name": "conda-base-py"
  },
  "language_info": {
   "codemirror_mode": {
    "name": "ipython",
    "version": 3
   },
   "file_extension": ".py",
   "mimetype": "text/x-python",
   "name": "python",
   "nbconvert_exporter": "python",
   "pygments_lexer": "ipython3",
   "version": "3.12.7"
  }
 },
 "nbformat": 4,
 "nbformat_minor": 5
}
